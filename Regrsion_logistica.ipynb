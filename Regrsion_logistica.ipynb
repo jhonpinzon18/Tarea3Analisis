{
 "cells": [
  {
   "cell_type": "code",
   "execution_count": null,
   "id": "208f08bc-db6b-4b5b-8321-1f8ba5ed5ae9",
   "metadata": {},
   "outputs": [],
   "source": [
    "import pandas as pd\n",
    "import numpy as np\n",
    "import seaborn as sns\n",
    "import matplotlib as ptl \n",
    "\n",
    "from sklearn import metrics \n",
    "from sklearn.model_selection  import traint_test_split\n",
    "from sklearn.linear_model import LogisticRegression\n",
    "from sklearn.metrics import classification_report, confusion_matrix"
   ]
  },
  {
   "cell_type": "code",
   "execution_count": 7,
   "id": "42229136-5170-43c8-a68a-dd4f55bd6035",
   "metadata": {},
   "outputs": [
    {
     "ename": "SyntaxError",
     "evalue": "(unicode error) 'unicodeescape' codec can't decode bytes in position 2-3: truncated \\UXXXXXXXX escape (1015974914.py, line 1)",
     "output_type": "error",
     "traceback": [
      "\u001b[1;36m  Cell \u001b[1;32mIn[7], line 1\u001b[1;36m\u001b[0m\n\u001b[1;33m    Archivo=pd.read.csv('C:\\Users\\hecto\\Documents\\Car_details _v3.csv')\u001b[0m\n\u001b[1;37m                                                                      ^\u001b[0m\n\u001b[1;31mSyntaxError\u001b[0m\u001b[1;31m:\u001b[0m (unicode error) 'unicodeescape' codec can't decode bytes in position 2-3: truncated \\UXXXXXXXX escape\n"
     ]
    }
   ],
   "source": [
    "Archivo=pd.read.csv('C:\\Users\\hecto\\Documents\\Car_details _v3.csv')"
   ]
  },
  {
   "cell_type": "code",
   "execution_count": null,
   "id": "fdcbac8d-2ae9-484f-a04d-c8c5bea32a3f",
   "metadata": {},
   "outputs": [],
   "source": []
  },
  {
   "cell_type": "code",
   "execution_count": null,
   "id": "9c2be6cf-8d96-4486-9918-eab91a8df48f",
   "metadata": {},
   "outputs": [],
   "source": []
  }
 ],
 "metadata": {
  "kernelspec": {
   "display_name": "Python 3 (ipykernel)",
   "language": "python",
   "name": "python3"
  },
  "language_info": {
   "codemirror_mode": {
    "name": "ipython",
    "version": 3
   },
   "file_extension": ".py",
   "mimetype": "text/x-python",
   "name": "python",
   "nbconvert_exporter": "python",
   "pygments_lexer": "ipython3",
   "version": "3.11.7"
  }
 },
 "nbformat": 4,
 "nbformat_minor": 5
}
