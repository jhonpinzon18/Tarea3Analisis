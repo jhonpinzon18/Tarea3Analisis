{
 "cells": [
  {
   "cell_type": "code",
   "execution_count": 129,
   "id": "1bf76259-5c99-4fa8-a877-2fe361252dca",
   "metadata": {},
   "outputs": [],
   "source": [
    "import pandas as pd \n",
    "import numpy as np \n",
    "import seaborn as sns \n",
    "import matplotlib.pyplot as plt \n",
    "from sklearn.impute import SimpleImputer\n",
    "from sklearn import metrics\n",
    "\n",
    "\n",
    "from sklearn.model_selection import train_test_split\n",
    "from sklearn.linear_model import LinearRegression\n",
    "from sklearn.linear_model import LogisticRegression\n",
    "from sklearn.metrics import classification_report, confusion_matrix\n",
    "from sklearn.preprocessing import OneHotEncoder"
   ]
  },
  {
   "cell_type": "code",
   "execution_count": 130,
   "id": "4e14ea10-aa83-4e20-9fa5-8d70f56c3027",
   "metadata": {},
   "outputs": [],
   "source": [
    "Archivo = pd.read_csv('C:\\\\Users\\\\hecto\\\\OneDrive - Universidad Nacional Abierta y a Distancia\\\\2024-1\\\\ANÁLISIS DE DATOS\\\\TAREA 3\\\\Anexo 3 - Dataset Heart Disease Cleveland UCI\\\\heart_cleveland_upload.csv', encoding='latin1')"
   ]
  },
  {
   "cell_type": "code",
   "execution_count": 131,
   "id": "455bc4cd-5e98-427a-b0a8-3866f2c4f40d",
   "metadata": {},
   "outputs": [
    {
     "name": "stdout",
     "output_type": "stream",
     "text": [
      "Index(['edad', 'sexo', 'tipo_dolor', 'presion_arterial', 'colesterol',\n",
      "       'azucar_sangre', 'electrocardio', 'frecuencia_cardiaca', 'exang',\n",
      "       'oldpeak', 'slope', 'ca', 'thal', 'condision'],\n",
      "      dtype='object')\n"
     ]
    }
   ],
   "source": [
    "#  1.Realizar un análisis exploratorio de los datos para identificar relaciones entre variables, valores atípicos, tendencias, etc.\n",
    "# Inspeccion de datos\n",
    "\n",
    "print(Archivo.columns)"
   ]
  },
  {
   "cell_type": "code",
   "execution_count": 133,
   "id": "24fb9ef7-bc74-47ad-a805-29c90582bd2c",
   "metadata": {},
   "outputs": [
    {
     "data": {
      "text/html": [
       "<div>\n",
       "<style scoped>\n",
       "    .dataframe tbody tr th:only-of-type {\n",
       "        vertical-align: middle;\n",
       "    }\n",
       "\n",
       "    .dataframe tbody tr th {\n",
       "        vertical-align: top;\n",
       "    }\n",
       "\n",
       "    .dataframe thead th {\n",
       "        text-align: right;\n",
       "    }\n",
       "</style>\n",
       "<table border=\"1\" class=\"dataframe\">\n",
       "  <thead>\n",
       "    <tr style=\"text-align: right;\">\n",
       "      <th></th>\n",
       "      <th>edad</th>\n",
       "      <th>sexo</th>\n",
       "      <th>tipo_dolor</th>\n",
       "      <th>presion_arterial</th>\n",
       "      <th>colesterol</th>\n",
       "      <th>azucar_sangre</th>\n",
       "      <th>electrocardio</th>\n",
       "      <th>frecuencia_cardiaca</th>\n",
       "      <th>exang</th>\n",
       "      <th>oldpeak</th>\n",
       "      <th>slope</th>\n",
       "      <th>ca</th>\n",
       "      <th>thal</th>\n",
       "      <th>condision</th>\n",
       "    </tr>\n",
       "  </thead>\n",
       "  <tbody>\n",
       "    <tr>\n",
       "      <th>0</th>\n",
       "      <td>69</td>\n",
       "      <td>1</td>\n",
       "      <td>0</td>\n",
       "      <td>160</td>\n",
       "      <td>234</td>\n",
       "      <td>1</td>\n",
       "      <td>2</td>\n",
       "      <td>131</td>\n",
       "      <td>0</td>\n",
       "      <td>0.1</td>\n",
       "      <td>1</td>\n",
       "      <td>1</td>\n",
       "      <td>0</td>\n",
       "      <td>0</td>\n",
       "    </tr>\n",
       "    <tr>\n",
       "      <th>1</th>\n",
       "      <td>69</td>\n",
       "      <td>0</td>\n",
       "      <td>0</td>\n",
       "      <td>140</td>\n",
       "      <td>239</td>\n",
       "      <td>0</td>\n",
       "      <td>0</td>\n",
       "      <td>151</td>\n",
       "      <td>0</td>\n",
       "      <td>1.8</td>\n",
       "      <td>0</td>\n",
       "      <td>2</td>\n",
       "      <td>0</td>\n",
       "      <td>0</td>\n",
       "    </tr>\n",
       "    <tr>\n",
       "      <th>2</th>\n",
       "      <td>66</td>\n",
       "      <td>0</td>\n",
       "      <td>0</td>\n",
       "      <td>150</td>\n",
       "      <td>226</td>\n",
       "      <td>0</td>\n",
       "      <td>0</td>\n",
       "      <td>114</td>\n",
       "      <td>0</td>\n",
       "      <td>2.6</td>\n",
       "      <td>2</td>\n",
       "      <td>0</td>\n",
       "      <td>0</td>\n",
       "      <td>0</td>\n",
       "    </tr>\n",
       "    <tr>\n",
       "      <th>3</th>\n",
       "      <td>65</td>\n",
       "      <td>1</td>\n",
       "      <td>0</td>\n",
       "      <td>138</td>\n",
       "      <td>282</td>\n",
       "      <td>1</td>\n",
       "      <td>2</td>\n",
       "      <td>174</td>\n",
       "      <td>0</td>\n",
       "      <td>1.4</td>\n",
       "      <td>1</td>\n",
       "      <td>1</td>\n",
       "      <td>0</td>\n",
       "      <td>1</td>\n",
       "    </tr>\n",
       "    <tr>\n",
       "      <th>4</th>\n",
       "      <td>64</td>\n",
       "      <td>1</td>\n",
       "      <td>0</td>\n",
       "      <td>110</td>\n",
       "      <td>211</td>\n",
       "      <td>0</td>\n",
       "      <td>2</td>\n",
       "      <td>144</td>\n",
       "      <td>1</td>\n",
       "      <td>1.8</td>\n",
       "      <td>1</td>\n",
       "      <td>0</td>\n",
       "      <td>0</td>\n",
       "      <td>0</td>\n",
       "    </tr>\n",
       "  </tbody>\n",
       "</table>\n",
       "</div>"
      ],
      "text/plain": [
       "   edad  sexo  tipo_dolor  presion_arterial  colesterol  azucar_sangre  \\\n",
       "0    69     1           0               160         234              1   \n",
       "1    69     0           0               140         239              0   \n",
       "2    66     0           0               150         226              0   \n",
       "3    65     1           0               138         282              1   \n",
       "4    64     1           0               110         211              0   \n",
       "\n",
       "   electrocardio  frecuencia_cardiaca  exang  oldpeak  slope  ca  thal  \\\n",
       "0              2                  131      0      0.1      1   1     0   \n",
       "1              0                  151      0      1.8      0   2     0   \n",
       "2              0                  114      0      2.6      2   0     0   \n",
       "3              2                  174      0      1.4      1   1     0   \n",
       "4              2                  144      1      1.8      1   0     0   \n",
       "\n",
       "   condision  \n",
       "0          0  \n",
       "1          0  \n",
       "2          0  \n",
       "3          1  \n",
       "4          0  "
      ]
     },
     "execution_count": 133,
     "metadata": {},
     "output_type": "execute_result"
    }
   ],
   "source": [
    "Archivo.head(5)"
   ]
  },
  {
   "cell_type": "code",
   "execution_count": 134,
   "id": "21a16c24-70bc-49b2-80d9-b32b2e6f18aa",
   "metadata": {},
   "outputs": [
    {
     "data": {
      "text/html": [
       "<div>\n",
       "<style scoped>\n",
       "    .dataframe tbody tr th:only-of-type {\n",
       "        vertical-align: middle;\n",
       "    }\n",
       "\n",
       "    .dataframe tbody tr th {\n",
       "        vertical-align: top;\n",
       "    }\n",
       "\n",
       "    .dataframe thead th {\n",
       "        text-align: right;\n",
       "    }\n",
       "</style>\n",
       "<table border=\"1\" class=\"dataframe\">\n",
       "  <thead>\n",
       "    <tr style=\"text-align: right;\">\n",
       "      <th></th>\n",
       "      <th>edad</th>\n",
       "      <th>sexo</th>\n",
       "      <th>tipo_dolor</th>\n",
       "      <th>presion_arterial</th>\n",
       "      <th>colesterol</th>\n",
       "      <th>azucar_sangre</th>\n",
       "      <th>electrocardio</th>\n",
       "      <th>frecuencia_cardiaca</th>\n",
       "      <th>exang</th>\n",
       "      <th>oldpeak</th>\n",
       "      <th>slope</th>\n",
       "      <th>ca</th>\n",
       "      <th>thal</th>\n",
       "      <th>condision</th>\n",
       "    </tr>\n",
       "  </thead>\n",
       "  <tbody>\n",
       "    <tr>\n",
       "      <th>count</th>\n",
       "      <td>297.000000</td>\n",
       "      <td>297.000000</td>\n",
       "      <td>297.000000</td>\n",
       "      <td>297.000000</td>\n",
       "      <td>297.000000</td>\n",
       "      <td>297.000000</td>\n",
       "      <td>297.000000</td>\n",
       "      <td>297.000000</td>\n",
       "      <td>297.000000</td>\n",
       "      <td>297.000000</td>\n",
       "      <td>297.000000</td>\n",
       "      <td>297.000000</td>\n",
       "      <td>297.000000</td>\n",
       "      <td>297.000000</td>\n",
       "    </tr>\n",
       "    <tr>\n",
       "      <th>mean</th>\n",
       "      <td>54.542088</td>\n",
       "      <td>0.676768</td>\n",
       "      <td>2.158249</td>\n",
       "      <td>131.693603</td>\n",
       "      <td>247.350168</td>\n",
       "      <td>0.144781</td>\n",
       "      <td>0.996633</td>\n",
       "      <td>149.599327</td>\n",
       "      <td>0.326599</td>\n",
       "      <td>1.055556</td>\n",
       "      <td>0.602694</td>\n",
       "      <td>0.676768</td>\n",
       "      <td>0.835017</td>\n",
       "      <td>0.461279</td>\n",
       "    </tr>\n",
       "    <tr>\n",
       "      <th>std</th>\n",
       "      <td>9.049736</td>\n",
       "      <td>0.468500</td>\n",
       "      <td>0.964859</td>\n",
       "      <td>17.762806</td>\n",
       "      <td>51.997583</td>\n",
       "      <td>0.352474</td>\n",
       "      <td>0.994914</td>\n",
       "      <td>22.941562</td>\n",
       "      <td>0.469761</td>\n",
       "      <td>1.166123</td>\n",
       "      <td>0.618187</td>\n",
       "      <td>0.938965</td>\n",
       "      <td>0.956690</td>\n",
       "      <td>0.499340</td>\n",
       "    </tr>\n",
       "    <tr>\n",
       "      <th>min</th>\n",
       "      <td>29.000000</td>\n",
       "      <td>0.000000</td>\n",
       "      <td>0.000000</td>\n",
       "      <td>94.000000</td>\n",
       "      <td>126.000000</td>\n",
       "      <td>0.000000</td>\n",
       "      <td>0.000000</td>\n",
       "      <td>71.000000</td>\n",
       "      <td>0.000000</td>\n",
       "      <td>0.000000</td>\n",
       "      <td>0.000000</td>\n",
       "      <td>0.000000</td>\n",
       "      <td>0.000000</td>\n",
       "      <td>0.000000</td>\n",
       "    </tr>\n",
       "    <tr>\n",
       "      <th>25%</th>\n",
       "      <td>48.000000</td>\n",
       "      <td>0.000000</td>\n",
       "      <td>2.000000</td>\n",
       "      <td>120.000000</td>\n",
       "      <td>211.000000</td>\n",
       "      <td>0.000000</td>\n",
       "      <td>0.000000</td>\n",
       "      <td>133.000000</td>\n",
       "      <td>0.000000</td>\n",
       "      <td>0.000000</td>\n",
       "      <td>0.000000</td>\n",
       "      <td>0.000000</td>\n",
       "      <td>0.000000</td>\n",
       "      <td>0.000000</td>\n",
       "    </tr>\n",
       "    <tr>\n",
       "      <th>50%</th>\n",
       "      <td>56.000000</td>\n",
       "      <td>1.000000</td>\n",
       "      <td>2.000000</td>\n",
       "      <td>130.000000</td>\n",
       "      <td>243.000000</td>\n",
       "      <td>0.000000</td>\n",
       "      <td>1.000000</td>\n",
       "      <td>153.000000</td>\n",
       "      <td>0.000000</td>\n",
       "      <td>0.800000</td>\n",
       "      <td>1.000000</td>\n",
       "      <td>0.000000</td>\n",
       "      <td>0.000000</td>\n",
       "      <td>0.000000</td>\n",
       "    </tr>\n",
       "    <tr>\n",
       "      <th>75%</th>\n",
       "      <td>61.000000</td>\n",
       "      <td>1.000000</td>\n",
       "      <td>3.000000</td>\n",
       "      <td>140.000000</td>\n",
       "      <td>276.000000</td>\n",
       "      <td>0.000000</td>\n",
       "      <td>2.000000</td>\n",
       "      <td>166.000000</td>\n",
       "      <td>1.000000</td>\n",
       "      <td>1.600000</td>\n",
       "      <td>1.000000</td>\n",
       "      <td>1.000000</td>\n",
       "      <td>2.000000</td>\n",
       "      <td>1.000000</td>\n",
       "    </tr>\n",
       "    <tr>\n",
       "      <th>max</th>\n",
       "      <td>77.000000</td>\n",
       "      <td>1.000000</td>\n",
       "      <td>3.000000</td>\n",
       "      <td>200.000000</td>\n",
       "      <td>564.000000</td>\n",
       "      <td>1.000000</td>\n",
       "      <td>2.000000</td>\n",
       "      <td>202.000000</td>\n",
       "      <td>1.000000</td>\n",
       "      <td>6.200000</td>\n",
       "      <td>2.000000</td>\n",
       "      <td>3.000000</td>\n",
       "      <td>2.000000</td>\n",
       "      <td>1.000000</td>\n",
       "    </tr>\n",
       "  </tbody>\n",
       "</table>\n",
       "</div>"
      ],
      "text/plain": [
       "             edad        sexo  tipo_dolor  presion_arterial  colesterol  \\\n",
       "count  297.000000  297.000000  297.000000        297.000000  297.000000   \n",
       "mean    54.542088    0.676768    2.158249        131.693603  247.350168   \n",
       "std      9.049736    0.468500    0.964859         17.762806   51.997583   \n",
       "min     29.000000    0.000000    0.000000         94.000000  126.000000   \n",
       "25%     48.000000    0.000000    2.000000        120.000000  211.000000   \n",
       "50%     56.000000    1.000000    2.000000        130.000000  243.000000   \n",
       "75%     61.000000    1.000000    3.000000        140.000000  276.000000   \n",
       "max     77.000000    1.000000    3.000000        200.000000  564.000000   \n",
       "\n",
       "       azucar_sangre  electrocardio  frecuencia_cardiaca       exang  \\\n",
       "count     297.000000     297.000000           297.000000  297.000000   \n",
       "mean        0.144781       0.996633           149.599327    0.326599   \n",
       "std         0.352474       0.994914            22.941562    0.469761   \n",
       "min         0.000000       0.000000            71.000000    0.000000   \n",
       "25%         0.000000       0.000000           133.000000    0.000000   \n",
       "50%         0.000000       1.000000           153.000000    0.000000   \n",
       "75%         0.000000       2.000000           166.000000    1.000000   \n",
       "max         1.000000       2.000000           202.000000    1.000000   \n",
       "\n",
       "          oldpeak       slope          ca        thal   condision  \n",
       "count  297.000000  297.000000  297.000000  297.000000  297.000000  \n",
       "mean     1.055556    0.602694    0.676768    0.835017    0.461279  \n",
       "std      1.166123    0.618187    0.938965    0.956690    0.499340  \n",
       "min      0.000000    0.000000    0.000000    0.000000    0.000000  \n",
       "25%      0.000000    0.000000    0.000000    0.000000    0.000000  \n",
       "50%      0.800000    1.000000    0.000000    0.000000    0.000000  \n",
       "75%      1.600000    1.000000    1.000000    2.000000    1.000000  \n",
       "max      6.200000    2.000000    3.000000    2.000000    1.000000  "
      ]
     },
     "execution_count": 134,
     "metadata": {},
     "output_type": "execute_result"
    }
   ],
   "source": [
    "Archivo.describe()"
   ]
  },
  {
   "cell_type": "code",
   "execution_count": 135,
   "id": "90a47e00-f888-471e-bedb-1e8c4d67f37b",
   "metadata": {},
   "outputs": [
    {
     "data": {
      "text/plain": [
       "(297, 14)"
      ]
     },
     "execution_count": 135,
     "metadata": {},
     "output_type": "execute_result"
    }
   ],
   "source": [
    "Archivo.shape"
   ]
  },
  {
   "cell_type": "code",
   "execution_count": 136,
   "id": "ef4f8aa2-21c8-40f1-a683-acd3bcbed076",
   "metadata": {},
   "outputs": [
    {
     "name": "stdout",
     "output_type": "stream",
     "text": [
      "<class 'pandas.core.frame.DataFrame'>\n",
      "RangeIndex: 297 entries, 0 to 296\n",
      "Data columns (total 14 columns):\n",
      " #   Column               Non-Null Count  Dtype  \n",
      "---  ------               --------------  -----  \n",
      " 0   edad                 297 non-null    int64  \n",
      " 1   sexo                 297 non-null    int64  \n",
      " 2   tipo_dolor           297 non-null    int64  \n",
      " 3   presion_arterial     297 non-null    int64  \n",
      " 4   colesterol           297 non-null    int64  \n",
      " 5   azucar_sangre        297 non-null    int64  \n",
      " 6   electrocardio        297 non-null    int64  \n",
      " 7   frecuencia_cardiaca  297 non-null    int64  \n",
      " 8   exang                297 non-null    int64  \n",
      " 9   oldpeak              297 non-null    float64\n",
      " 10  slope                297 non-null    int64  \n",
      " 11  ca                   297 non-null    int64  \n",
      " 12  thal                 297 non-null    int64  \n",
      " 13  condision            297 non-null    int64  \n",
      "dtypes: float64(1), int64(13)\n",
      "memory usage: 32.6 KB\n"
     ]
    }
   ],
   "source": [
    "Archivo.info()"
   ]
  },
  {
   "cell_type": "code",
   "execution_count": 137,
   "id": "00704dcd-c06b-4007-845a-4882f4b88d04",
   "metadata": {},
   "outputs": [
    {
     "data": {
      "text/plain": [
       "edad                   0.0\n",
       "sexo                   0.0\n",
       "tipo_dolor             0.0\n",
       "presion_arterial       0.0\n",
       "colesterol             0.0\n",
       "azucar_sangre          0.0\n",
       "electrocardio          0.0\n",
       "frecuencia_cardiaca    0.0\n",
       "exang                  0.0\n",
       "oldpeak                0.0\n",
       "slope                  0.0\n",
       "ca                     0.0\n",
       "thal                   0.0\n",
       "condision              0.0\n",
       "dtype: float64"
      ]
     },
     "execution_count": 137,
     "metadata": {},
     "output_type": "execute_result"
    }
   ],
   "source": [
    "# 2.Preprocesar los datos limpiándolos, tratando valores faltantes y transformándolos según sea necesario\n",
    "# Limpieza de datos\n",
    "Archivo.isnull().sum()*100/Archivo.shape[0]"
   ]
  },
  {
   "cell_type": "code",
   "execution_count": 138,
   "id": "81c42822-4133-41ea-80f7-e60a9348f33a",
   "metadata": {},
   "outputs": [
    {
     "name": "stdout",
     "output_type": "stream",
     "text": [
      "Registros faltantes de electrocardio:  147\n"
     ]
    }
   ],
   "source": [
    "#   2. Preprocesar los datos limpiándolos, tratando valores faltantes ytransformándolos según sea necesario.\n",
    "print(\"Registros faltantes de electrocardio: \",Archivo['electrocardio'].isin([0]).sum())\n"
   ]
  },
  {
   "cell_type": "code",
   "execution_count": 139,
   "id": "ed528e5e-3d5f-4894-b241-8ce93ab5b3b9",
   "metadata": {},
   "outputs": [],
   "source": [
    "\n",
    "Archivo['sexo']=Archivo['sexo'].replace(0,Archivo['sexo'].mean())\n"
   ]
  },
  {
   "cell_type": "code",
   "execution_count": 140,
   "id": "2c9bbb5f-33e2-4018-be2a-12324576c838",
   "metadata": {},
   "outputs": [
    {
     "name": "stdout",
     "output_type": "stream",
     "text": [
      "Registros faltantes de Sexo:  0\n"
     ]
    }
   ],
   "source": [
    "print(\"Registros faltantes de Sexo: \",Archivo['sexo'].isin([0]).sum())\n"
   ]
  },
  {
   "cell_type": "code",
   "execution_count": 141,
   "id": "b6c8a572-17de-4cb9-bf9f-ec10f1131b14",
   "metadata": {},
   "outputs": [
    {
     "data": {
      "text/plain": [
       "Text(0.5, 1.0, 'Identificación de Datos Faltantes y Atípicos')"
      ]
     },
     "execution_count": 141,
     "metadata": {},
     "output_type": "execute_result"
    },
    {
     "data": {
      "image/png": "[encoded data removed]",
      "text/plain": [
       "<Figure size 600x300 with 1 Axes>"
      ]
     },
     "metadata": {},
     "output_type": "display_data"
    },
    {
     "data": {
      "image/png": "[encoded data removed]",
      "text/plain": [
       "<Figure size 600x300 with 1 Axes>"
      ]
     },
     "metadata": {},
     "output_type": "display_data"
    }
   ],
   "source": [
    "#Identificación de Datos Faltantes y Atípicos\n",
    "plt.figure(figsize=(6, 3))\n",
    "sns.boxplot(x=Archivo['edad'])\n",
    "plt.title('Identificación de Datos Faltantes y Atípicos', fontsize=10 )\n",
    "plt.figure(figsize=(6, 3))\n",
    "sns.boxplot(x=Archivo['presion_arterial'])\n",
    "plt.title('Identificación de Datos Faltantes y Atípicos', fontsize=10 )"
   ]
  },
  {
   "cell_type": "code",
   "execution_count": 142,
   "id": "3894e5db-f6c0-480d-a7da-5d2d0b6d45a5",
   "metadata": {},
   "outputs": [
    {
     "name": "stdout",
     "output_type": "stream",
     "text": [
      "El total de datos atípicos es: 11\n"
     ]
    }
   ],
   "source": [
    "nivel_minimo=100\n",
    "nivel_maximo=170\n",
    "Total_Atipicos=((Archivo['presion_arterial']<nivel_minimo)|(Archivo['presion_arterial']>nivel_maximo)).sum()\n",
    "print(\"El total de datos atípicos es: {}\".format(Total_Atipicos))"
   ]
  },
  {
   "cell_type": "code",
   "execution_count": 143,
   "id": "91e359c2-ffda-43a5-bdaf-2c415131504a",
   "metadata": {},
   "outputs": [],
   "source": [
    "Archivo=Archivo[(Archivo['presion_arterial']<nivel_maximo)&(Archivo['presion_arterial']>nivel_minimo)]"
   ]
  },
  {
   "cell_type": "code",
   "execution_count": 144,
   "id": "b81c013d-1f70-479b-8482-0b9c57314d86",
   "metadata": {},
   "outputs": [
    {
     "name": "stdout",
     "output_type": "stream",
     "text": [
      "El total de datos atípicos es: 0\n"
     ]
    }
   ],
   "source": [
    "Total_Atipicos=((Archivo['presion_arterial']<nivel_minimo)|(Archivo['presion_arterial']>nivel_maximo)).sum()\n",
    "print(\"El total de datos atípicos es: {}\".format(Total_Atipicos))"
   ]
  },
  {
   "cell_type": "code",
   "execution_count": 145,
   "id": "4ff9a36c-2c18-40a9-82f8-aefaa924cec0",
   "metadata": {},
   "outputs": [
    {
     "data": {
      "text/plain": [
       "condision\n",
       "0    152\n",
       "1    126\n",
       "Name: count, dtype: int64"
      ]
     },
     "execution_count": 145,
     "metadata": {},
     "output_type": "execute_result"
    }
   ],
   "source": [
    "# 3.Seleccionar las características más relevantes para entrenar el modelo utilizando selección de características\n",
    "Archivo['condision'].value_counts()"
   ]
  },
  {
   "cell_type": "code",
   "execution_count": 147,
   "id": "297f6a80-834c-4f96-b5e3-f5058c076acc",
   "metadata": {},
   "outputs": [
    {
     "data": {
      "text/html": [
       "<div>\n",
       "<style scoped>\n",
       "    .dataframe tbody tr th:only-of-type {\n",
       "        vertical-align: middle;\n",
       "    }\n",
       "\n",
       "    .dataframe tbody tr th {\n",
       "        vertical-align: top;\n",
       "    }\n",
       "\n",
       "    .dataframe thead th {\n",
       "        text-align: right;\n",
       "    }\n",
       "</style>\n",
       "<table border=\"1\" class=\"dataframe\">\n",
       "  <thead>\n",
       "    <tr style=\"text-align: right;\">\n",
       "      <th></th>\n",
       "      <th>condision</th>\n",
       "    </tr>\n",
       "  </thead>\n",
       "  <tbody>\n",
       "    <tr>\n",
       "      <th>0</th>\n",
       "      <td>0</td>\n",
       "    </tr>\n",
       "    <tr>\n",
       "      <th>1</th>\n",
       "      <td>0</td>\n",
       "    </tr>\n",
       "    <tr>\n",
       "      <th>2</th>\n",
       "      <td>0</td>\n",
       "    </tr>\n",
       "    <tr>\n",
       "      <th>3</th>\n",
       "      <td>1</td>\n",
       "    </tr>\n",
       "    <tr>\n",
       "      <th>4</th>\n",
       "      <td>0</td>\n",
       "    </tr>\n",
       "    <tr>\n",
       "      <th>6</th>\n",
       "      <td>0</td>\n",
       "    </tr>\n",
       "    <tr>\n",
       "      <th>7</th>\n",
       "      <td>1</td>\n",
       "    </tr>\n",
       "    <tr>\n",
       "      <th>8</th>\n",
       "      <td>0</td>\n",
       "    </tr>\n",
       "    <tr>\n",
       "      <th>11</th>\n",
       "      <td>1</td>\n",
       "    </tr>\n",
       "    <tr>\n",
       "      <th>12</th>\n",
       "      <td>1</td>\n",
       "    </tr>\n",
       "  </tbody>\n",
       "</table>\n",
       "</div>"
      ],
      "text/plain": [
       "    condision\n",
       "0           0\n",
       "1           0\n",
       "2           0\n",
       "3           1\n",
       "4           0\n",
       "6           0\n",
       "7           1\n",
       "8           0\n",
       "11          1\n",
       "12          1"
      ]
     },
     "execution_count": 147,
     "metadata": {},
     "output_type": "execute_result"
    }
   ],
   "source": [
    "Archivo[['condision']].head(10)\n"
   ]
  },
  {
   "cell_type": "code",
   "execution_count": 148,
   "id": "72af1d08-4116-4dd6-b97a-d7af417fc863",
   "metadata": {},
   "outputs": [],
   "source": [
    "#  4. Dividir el dataset en Train y Test para evaluar correctamente el modelo.\n",
    "\n",
    "# Porcentaje de datos para entrenamiento (train) = 75% , y para prueba (test) = 25%\n",
    "\n",
    "# Se crean variables X y Y para almacenar la información del entrenamiento\n",
    "X = Archivo.drop('condision',axis=1) # Se cargan los datos de train sin los datos de la columna Diabetico \n",
    "Y = Archivo['condision'] # Se cargan los datos de train con los datos de la la columna Diabetico\n",
    "\n",
    "#La función train_test_split crea una división de un conjunto de datos en dos bloques uno de entrenamiento y otro de prueba (train and test)\n",
    "X_train, X_test, Y_train, Y_test = train_test_split(X, Y, test_size=0.25, stratify=Y, random_state= 0)"
   ]
  },
  {
   "cell_type": "code",
   "execution_count": 149,
   "id": "0ef51a9f-6be0-43b9-98e3-da0b3f4f06b5",
   "metadata": {},
   "outputs": [
    {
     "name": "stdout",
     "output_type": "stream",
     "text": [
      "     edad      sexo  tipo_dolor  presion_arterial  colesterol  azucar_sangre  \\\n",
      "150    39  0.676768           2               138         220              0   \n",
      "91     62  0.676768           2               130         263              0   \n",
      "193    61  0.676768           3               145         307              0   \n",
      "292    40  1.000000           3               152         223              0   \n",
      "84     65  0.676768           2               155         269              0   \n",
      "..    ...       ...         ...               ...         ...            ...   \n",
      "90     62  1.000000           2               130         231              0   \n",
      "59     44  1.000000           1               120         263              0   \n",
      "148    41  1.000000           2               112         250              0   \n",
      "7      61  1.000000           0               134         234              0   \n",
      "175    64  1.000000           3               145         212              0   \n",
      "\n",
      "     electrocardio  frecuencia_cardiaca  exang  oldpeak  slope  ca  thal  \n",
      "150              0                  152      0      0.0      1   0     0  \n",
      "91               0                   97      0      1.2      1   1     2  \n",
      "193              2                  146      1      1.0      1   0     2  \n",
      "292              0                  181      0      0.0      0   0     2  \n",
      "84               0                  148      0      0.8      0   0     0  \n",
      "..             ...                  ...    ...      ...    ...  ..   ...  \n",
      "90               0                  146      0      1.8      1   3     2  \n",
      "59               0                  173      0      0.0      0   0     2  \n",
      "148              0                  179      0      0.0      0   0     0  \n",
      "7                0                  145      0      2.6      1   2     0  \n",
      "175              2                  132      0      2.0      1   2     1  \n",
      "\n",
      "[208 rows x 13 columns]\n"
     ]
    }
   ],
   "source": [
    "print (X_train)"
   ]
  },
  {
   "cell_type": "code",
   "execution_count": 150,
   "id": "b020ea2e-cf8c-4bcd-b42f-52b4c2db7d20",
   "metadata": {},
   "outputs": [
    {
     "name": "stdout",
     "output_type": "stream",
     "text": [
      "150    0\n",
      "91     1\n",
      "193    1\n",
      "292    1\n",
      "84     0\n",
      "      ..\n",
      "90     0\n",
      "59     0\n",
      "148    0\n",
      "7      1\n",
      "175    1\n",
      "Name: condision, Length: 208, dtype: int64\n"
     ]
    }
   ],
   "source": [
    "print (Y_train)"
   ]
  },
  {
   "cell_type": "code",
   "execution_count": 151,
   "id": "96ef6c6d-df74-420e-91b5-bd25fbec5ab0",
   "metadata": {},
   "outputs": [],
   "source": [
    "#  5. Entrenar el modelo configurando los diferentes hiperparámetros\n",
    "# Construir el modelo de regresión logística \n",
    "\n",
    "modelo_regresion = LogisticRegression(solver = \"liblinear\") # liblinear es una libreria para resolver problemas lineales de clasificación y regresión\n",
    "modelo_regresion.fit (X_train , Y_train)   \n",
    "\n",
    "# Crea el modelo de prediccion\n",
    "Prediccion = modelo_regresion.predict(X_test) # la función predict predice los valores a partir del conjunto de datos de validación"
   ]
  },
  {
   "cell_type": "code",
   "execution_count": 152,
   "id": "f24d483d-eae5-41c8-bbbd-def9a1d5b65d",
   "metadata": {},
   "outputs": [
    {
     "name": "stdout",
     "output_type": "stream",
     "text": [
      "138    0\n",
      "249    0\n",
      "191    0\n",
      "216    1\n",
      "101    0\n",
      "      ..\n",
      "192    1\n",
      "288    1\n",
      "208    1\n",
      "37     0\n",
      "79     0\n",
      "Name: condision, Length: 70, dtype: int64\n"
     ]
    }
   ],
   "source": [
    "print (Y_test)"
   ]
  },
  {
   "cell_type": "code",
   "execution_count": 153,
   "id": "04bc2617-ff21-4d40-8869-0860b03666ad",
   "metadata": {},
   "outputs": [
    {
     "name": "stdout",
     "output_type": "stream",
     "text": [
      "[0 0 0 1 0 0 1 0 1 0 1 1 1 0 1 1 1 0 0 1 0 0 1 1 1 0 0 1 0 0 1 0 0 0 0 1 1\n",
      " 1 0 0 1 1 0 0 0 0 0 0 0 1 0 0 0 1 0 1 0 0 0 0 0 0 0 1 1 1 1 1 0 1]\n"
     ]
    }
   ],
   "source": [
    "print (Prediccion)"
   ]
  },
  {
   "cell_type": "code",
   "execution_count": 154,
   "id": "818e2a9b-687a-4d4b-abbe-ddc59d49205e",
   "metadata": {},
   "outputs": [
    {
     "name": "stdout",
     "output_type": "stream",
     "text": [
      "              precision    recall  f1-score   support\n",
      "\n",
      "           0       0.85      0.92      0.89        38\n",
      "           1       0.90      0.81      0.85        32\n",
      "\n",
      "    accuracy                           0.87        70\n",
      "   macro avg       0.88      0.87      0.87        70\n",
      "weighted avg       0.87      0.87      0.87        70\n",
      "\n"
     ]
    }
   ],
   "source": [
    "#   6. Evaluar el desempeño del modelo en el conjunto de Test con métricas como precisión, recall, F1-score, etc\n",
    "# Desempeño del modelo de regresión\n",
    "print(classification_report(Y_test,Prediccion))"
   ]
  },
  {
   "cell_type": "code",
   "execution_count": 160,
   "id": "708b1393-8335-4635-b02d-3c85b197314f",
   "metadata": {},
   "outputs": [
    {
     "data": {
      "image/png": "[encoded data removed]",
      "text/plain": [
       "<Figure size 640x480 with 1 Axes>"
      ]
     },
     "metadata": {},
     "output_type": "display_data"
    },
    {
     "data": {
      "image/png": "[encoded data removed]",
      "text/plain": [
       "<Figure size 640x480 with 2 Axes>"
      ]
     },
     "metadata": {},
     "output_type": "display_data"
    }
   ],
   "source": [
    "#   7. Realizar las diferentes gráficas que permitan visualizar los resultados del modelo\n",
    "#Matrix de Confusión del modelo\n",
    "from sklearn.metrics import roc_curve, confusion_matrix\n",
    "import matplotlib.pyplot as plt\n",
    "\n",
    "# Calcular las probabilidades de predicción para las muestras de prueba\n",
    "y_pred_proba = modelo_regresion.predict_proba(X_test)[:, 1]\n",
    "\n",
    "# Calcular la curva ROC\n",
    "fpr, tpr, thresholds = roc_curve(Y_test, y_pred_proba)\n",
    "\n",
    "# Graficar la curva ROC\n",
    "plt.plot(fpr, tpr)\n",
    "plt.xlabel('Tasa de Falsos Positivos')\n",
    "plt.ylabel('Tasa de Verdaderos Positivos')\n",
    "plt.title('Curva ROC')\n",
    "plt.show()\n",
    "\n",
    "# Calcular la matriz de confusión\n",
    "conf_matrix = confusion_matrix(Y_test, modelo_regresion.predict(X_test))\n",
    "\n",
    "# Graficar la matriz de confusión\n",
    "plt.imshow(conf_matrix, cmap='Blues', interpolation='nearest')\n",
    "plt.colorbar()\n",
    "plt.title('Matriz de Confusión')\n",
    "plt.xlabel('Predicción')\n",
    "plt.ylabel('Valor Real')\n",
    "plt.show()\n"
   ]
  },
  {
   "cell_type": "code",
   "execution_count": null,
   "id": "7adce25d-ae73-4b49-afdc-a2c00e21ae86",
   "metadata": {},
   "outputs": [],
   "source": []
  }
 ],
 "metadata": {
  "kernelspec": {
   "display_name": "Python 3 (ipykernel)",
   "language": "python",
   "name": "python3"
  },
  "language_info": {
   "codemirror_mode": {
    "name": "ipython",
    "version": 3
   },
   "file_extension": ".py",
   "mimetype": "text/x-python",
   "name": "python",
   "nbconvert_exporter": "python",
   "pygments_lexer": "ipython3",
   "version": "3.11.7"
  }
 },
 "nbformat": 4,
 "nbformat_minor": 5
}
